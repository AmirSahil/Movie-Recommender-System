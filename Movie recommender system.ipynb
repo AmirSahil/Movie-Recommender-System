{
 "cells": [
  {
   "cell_type": "code",
   "execution_count": 1,
   "metadata": {},
   "outputs": [],
   "source": [
    "from movielens import *\n",
    "from sklearn.cluster import KMeans\n",
    "import numpy as np\n",
    "import pickle\n",
    "import random\n",
    "import sys\n",
    "import gzip\n",
    "import time"
   ]
  },
  {
   "cell_type": "code",
   "execution_count": 2,
   "metadata": {},
   "outputs": [],
   "source": [
    "user = []\n",
    "item = []\n",
    "\n",
    "d = Dataset()\n",
    "d.load_users(\"data/u.user\", user)\n",
    "d.load_items(\"data/u.item\", item)\n",
    "\n",
    "n_users = len(user)\n",
    "n_items = len(item)"
   ]
  },
  {
   "cell_type": "code",
   "execution_count": 4,
   "metadata": {},
   "outputs": [],
   "source": [
    "with open(\"utility_matrix.pkl\", 'rb') as f:\n",
    "  \n",
    "    u = pickle._Unpickler(f)\n",
    "    u.encoding = 'latin1'\n",
    "    utility_matrix = u.load()"
   ]
  },
  {
   "cell_type": "markdown",
   "metadata": {},
   "source": [
    "### Find the average rating for each user and stores it in the user's object"
   ]
  },
  {
   "cell_type": "code",
   "execution_count": 5,
   "metadata": {},
   "outputs": [],
   "source": [
    "for i in range(0, n_users):\n",
    "    x = utility_matrix[i]\n",
    "    user[i].avg_r = sum(a for a in x if a > 0) / sum(a > 0 for a in x)"
   ]
  },
  {
   "cell_type": "markdown",
   "metadata": {},
   "source": [
    "### Find the Pearson Correlation Similarity Measure between two users"
   ]
  },
  {
   "cell_type": "code",
   "execution_count": 6,
   "metadata": {},
   "outputs": [],
   "source": [
    "def pcs(x, y, ut):\n",
    "    num = 0\n",
    "    den1 = 0\n",
    "    den2 = 0\n",
    "    A = ut[x - 1]\n",
    "    B = ut[y - 1]\n",
    "    num = sum((a - user[x - 1].avg_r) * (b - user[y - 1].avg_r) for a, b in zip(A, B) if a > 0 and b > 0)\n",
    "    den1 = sum((a - user[x - 1].avg_r) ** 2 for a in A if a > 0)\n",
    "    den2 = sum((b - user[y - 1].avg_r) ** 2 for b in B if b > 0)\n",
    "    den = (den1 ** 0.5) * (den2 ** 0.5)\n",
    "    if den == 0:\n",
    "        return 0\n",
    "    else:\n",
    "        return num / den"
   ]
  },
  {
   "cell_type": "markdown",
   "metadata": {},
   "source": [
    "### Perform clustering on items"
   ]
  },
  {
   "cell_type": "code",
   "execution_count": 7,
   "metadata": {},
   "outputs": [
    {
     "name": "stdout",
     "output_type": "stream",
     "text": [
      "Please rate the following movies (1-5):\n",
      "Some Kind of Wonderful (1987): \n",
      "4\n",
      "Maverick (1994): \n",
      "4\n",
      "Chasing Amy (1997): \n",
      "4\n",
      "Beverly Hills Ninja (1997): \n",
      "4\n",
      "Lost Highway (1997): \n",
      "4\n",
      "Naked Gun 33 1/3: The Final Insult (1994): \n",
      "3\n",
      "Perfect Candidate, A (1996): \n",
      "2\n",
      "Quest, The (1996): \n",
      "4\n",
      "Fish Called Wanda, A (1988): \n",
      "3\n",
      "Disclosure (1994): \n",
      "4\n",
      "Finding users which have similar preferences.\n",
      "Movie genres you'd like:\n",
      "unknown\n",
      "documentary\n",
      "science fiction\n"
     ]
    }
   ],
   "source": [
    "movie_genre = []\n",
    "for movie in item:\n",
    "    movie_genre.append([movie.unknown, movie.action, movie.adventure, movie.animation, movie.childrens, movie.comedy,\n",
    "                        movie.crime, movie.documentary, movie.drama, movie.fantasy, movie.film_noir, movie.horror,\n",
    "                        movie.musical, movie.mystery, movie.romance, movie.sci_fi, movie.thriller, movie.war, movie.western])\n",
    "\n",
    "movie_genre = np.array(movie_genre)\n",
    "cluster = KMeans(n_clusters=19)\n",
    "cluster.fit_predict(movie_genre)\n",
    "\n",
    "ask = random.sample(item, 10)\n",
    "new_user = np.zeros(19)\n",
    "\n",
    "print(\"Please rate the following movies (1-5):\")\n",
    "for movie in ask:\n",
    "\tprint(movie.title + \": \")\n",
    "\ta = int(input())\n",
    "\tif new_user[cluster.labels_[movie.id - 1]] != 0:\n",
    "\t\tnew_user[cluster.labels_[movie.id - 1]] = (new_user[cluster.labels_[movie.id - 1]] + a) / 2\n",
    "\telse:\n",
    "\t\tnew_user[cluster.labels_[movie.id - 1]] = a\n",
    "\n",
    "utility_new = np.vstack((utility_matrix, new_user))\n",
    "\n",
    "user.append(User(944, 21, 'M', 'student', 110018))\n",
    "\n",
    "pcs_matrix = np.zeros(n_users)\n",
    "\n",
    "print(\"Finding users which have similar preferences.\")\n",
    "for i in range(0, n_users + 1):\n",
    "    if i != 943:\n",
    "        pcs_matrix[i] = pcs(944, i + 1, utility_new)\n",
    "\n",
    "user_index = []\n",
    "for i in user:\n",
    "\tuser_index.append(i.id - 1)\n",
    "user_index = user_index[:943]\n",
    "user_index = np.array(user_index)\n",
    "\n",
    "top_5 = [x for (y,x) in sorted(zip(pcs_matrix, user_index), key=lambda pair: pair[0], reverse=True)]\n",
    "top_5 = top_5[:5]\n",
    "\n",
    "top_5_genre = set()\n",
    "\n",
    "for i in range(0, 5):\n",
    "\tmaxi = 0\n",
    "\tmaxe = 0\n",
    "\tfor j in range(0, 19):\n",
    "\t\tif maxe < utility_matrix[top_5[i]][j]:\n",
    "\t\t\tmaxe = utility_matrix[top_5[i]][j]\n",
    "\t\t\tmaxi = j\n",
    "\ttop_5_genre.add(maxi)\n",
    "\n",
    "print(\"Movie genres you'd like:\")\n",
    "\n",
    "for i in top_5_genre:\n",
    "\tif i == 0:\n",
    "\t\tprint(\"unknown\")\n",
    "\telif i == 1:\n",
    "\t\tprint(\"action\")\n",
    "\telif i == 2:\n",
    "\t\tprint(\"adventure\")\n",
    "\telif i == 3:\n",
    "\t\tprint(\"animation\")\n",
    "\telif i == 4:\n",
    "\t\tprint(\"childrens\")\n",
    "\telif i == 5:\n",
    "\t\tprint(\"comedy\")\n",
    "\telif i == 6:\n",
    "\t\tprint(\"crime\")\n",
    "\telif i == 7:\n",
    "\t\tprint(\"documentary\")\n",
    "\telif i == 8:\n",
    "\t\tprint(\"drama\")\n",
    "\telif i == 9:\n",
    "\t\tprint(\"fantasy\")\n",
    "\telif i == 10:\n",
    "\t\tprint(\"film noir\")\n",
    "\telif i == 11:\n",
    "\t\tprint(\"horror\")\n",
    "\telif i == 12:\n",
    "\t\tprint(\"musical\")\n",
    "\telif i == 13:\n",
    "\t\tprint(\"mystery\")\n",
    "\telif i == 14:\n",
    "\t\tprint(\"romance\")\n",
    "\telif i == 15:\n",
    "\t\tprint(\"science fiction\")\n",
    "\telif i == 16:\n",
    "\t\tprint(\"thriller\")\n",
    "\telif i == 17:\n",
    "\t\tprint(\"war\")\n",
    "\telse:\n",
    "\t\tprint(\"western\")\n"
   ]
  }
 ],
 "metadata": {
  "kernelspec": {
   "display_name": "Python 3",
   "language": "python",
   "name": "python3"
  },
  "language_info": {
   "codemirror_mode": {
    "name": "ipython",
    "version": 3
   },
   "file_extension": ".py",
   "mimetype": "text/x-python",
   "name": "python",
   "nbconvert_exporter": "python",
   "pygments_lexer": "ipython3",
   "version": "3.9.0"
  }
 },
 "nbformat": 4,
 "nbformat_minor": 4
}
